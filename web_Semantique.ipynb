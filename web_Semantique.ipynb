{
  "nbformat": 4,
  "nbformat_minor": 0,
  "metadata": {
    "colab": {
      "provenance": [],
      "authorship_tag": "ABX9TyMIkx4TIMQeIv7omSfH5Td6",
      "include_colab_link": true
    },
    "kernelspec": {
      "name": "python3",
      "display_name": "Python 3"
    },
    "language_info": {
      "name": "python"
    }
  },
  "cells": [
    {
      "cell_type": "markdown",
      "metadata": {
        "id": "view-in-github",
        "colab_type": "text"
      },
      "source": [
        "<a href=\"https://colab.research.google.com/github/ich-youness/Web_Mining/blob/main/web_Semantique.ipynb\" target=\"_parent\"><img src=\"https://colab.research.google.com/assets/colab-badge.svg\" alt=\"Open In Colab\"/></a>"
      ]
    },
    {
      "cell_type": "code",
      "execution_count": 2,
      "metadata": {
        "colab": {
          "base_uri": "https://localhost:8080/"
        },
        "id": "9RIUGgXztqXM",
        "outputId": "f3d08e50-16b9-49fc-d02a-f439b9a262a2"
      },
      "outputs": [
        {
          "output_type": "stream",
          "name": "stdout",
          "text": [
            "Collecting rdflib\n",
            "  Downloading rdflib-7.1.1-py3-none-any.whl.metadata (11 kB)\n",
            "Collecting isodate<1.0.0,>=0.7.2 (from rdflib)\n",
            "  Downloading isodate-0.7.2-py3-none-any.whl.metadata (11 kB)\n",
            "Requirement already satisfied: pyparsing<4,>=2.1.0 in /usr/local/lib/python3.10/dist-packages (from rdflib) (3.2.0)\n",
            "Downloading rdflib-7.1.1-py3-none-any.whl (562 kB)\n",
            "\u001b[2K   \u001b[90m━━━━━━━━━━━━━━━━━━━━━━━━━━━━━━━━━━━━━━━━\u001b[0m \u001b[32m562.4/562.4 kB\u001b[0m \u001b[31m10.9 MB/s\u001b[0m eta \u001b[36m0:00:00\u001b[0m\n",
            "\u001b[?25hDownloading isodate-0.7.2-py3-none-any.whl (22 kB)\n",
            "Installing collected packages: isodate, rdflib\n",
            "Successfully installed isodate-0.7.2 rdflib-7.1.1\n",
            "Collecting SPARQLWrapper\n",
            "  Downloading SPARQLWrapper-2.0.0-py3-none-any.whl.metadata (2.0 kB)\n",
            "Requirement already satisfied: rdflib>=6.1.1 in /usr/local/lib/python3.10/dist-packages (from SPARQLWrapper) (7.1.1)\n",
            "Requirement already satisfied: isodate<1.0.0,>=0.7.2 in /usr/local/lib/python3.10/dist-packages (from rdflib>=6.1.1->SPARQLWrapper) (0.7.2)\n",
            "Requirement already satisfied: pyparsing<4,>=2.1.0 in /usr/local/lib/python3.10/dist-packages (from rdflib>=6.1.1->SPARQLWrapper) (3.2.0)\n",
            "Downloading SPARQLWrapper-2.0.0-py3-none-any.whl (28 kB)\n",
            "Installing collected packages: SPARQLWrapper\n",
            "Successfully installed SPARQLWrapper-2.0.0\n"
          ]
        }
      ],
      "source": [
        "!pip install rdflib\n",
        "!pip install SPARQLWrapper\n"
      ]
    },
    {
      "cell_type": "code",
      "source": [
        "from rdflib import Graph\n",
        "from SPARQLWrapper import SPARQLWrapper, JSON, N3, XML\n",
        "from pprint import pprint"
      ],
      "metadata": {
        "id": "Z_6hCC_ovXzi"
      },
      "execution_count": 3,
      "outputs": []
    },
    {
      "cell_type": "code",
      "source": [
        "sparqlInstance = SPARQLWrapper(\"http://dbpedia.org/sparql\")\n",
        "sparqlInstance.setQuery('''\n",
        "                        SELECT ?object\n",
        "                        WHERE { dbr:Albert_Einstein rdfs:label ?object .}\n",
        "                        # WHERE { dbr:Albert_Einstein dbo:abstract ?object .}\n",
        "                        ''')\n",
        "\n",
        "\n",
        "sparqlInstance.setReturnFormat(JSON)\n",
        "queryRes = sparqlInstance.query().convert()\n",
        "pprint(queryRes)"
      ],
      "metadata": {
        "colab": {
          "base_uri": "https://localhost:8080/"
        },
        "id": "fq1fXUCUvmh-",
        "outputId": "c856e21b-80e5-410f-9547-43bf469b45bd"
      },
      "execution_count": 5,
      "outputs": [
        {
          "output_type": "stream",
          "name": "stdout",
          "text": [
            "{'head': {'link': [], 'vars': ['object']},\n",
            " 'results': {'bindings': [{'object': {'type': 'literal',\n",
            "                                      'value': 'Albert Einstein',\n",
            "                                      'xml:lang': 'en'}},\n",
            "                          {'object': {'type': 'literal',\n",
            "                                      'value': 'ألبرت أينشتاين',\n",
            "                                      'xml:lang': 'ar'}},\n",
            "                          {'object': {'type': 'literal',\n",
            "                                      'value': 'Albert Einstein',\n",
            "                                      'xml:lang': 'ca'}},\n",
            "                          {'object': {'type': 'literal',\n",
            "                                      'value': 'Albert Einstein',\n",
            "                                      'xml:lang': 'cs'}},\n",
            "                          {'object': {'type': 'literal',\n",
            "                                      'value': 'Albert Einstein',\n",
            "                                      'xml:lang': 'de'}},\n",
            "                          {'object': {'type': 'literal',\n",
            "                                      'value': 'Άλμπερτ Αϊνστάιν',\n",
            "                                      'xml:lang': 'el'}},\n",
            "                          {'object': {'type': 'literal',\n",
            "                                      'value': 'Albert Einstein',\n",
            "                                      'xml:lang': 'eo'}},\n",
            "                          {'object': {'type': 'literal',\n",
            "                                      'value': 'Albert Einstein',\n",
            "                                      'xml:lang': 'es'}},\n",
            "                          {'object': {'type': 'literal',\n",
            "                                      'value': 'Albert Einstein',\n",
            "                                      'xml:lang': 'eu'}},\n",
            "                          {'object': {'type': 'literal',\n",
            "                                      'value': 'Albert Einstein',\n",
            "                                      'xml:lang': 'ga'}},\n",
            "                          {'object': {'type': 'literal',\n",
            "                                      'value': 'Albert Einstein',\n",
            "                                      'xml:lang': 'in'}},\n",
            "                          {'object': {'type': 'literal',\n",
            "                                      'value': 'Albert Einstein',\n",
            "                                      'xml:lang': 'it'}},\n",
            "                          {'object': {'type': 'literal',\n",
            "                                      'value': 'Albert Einstein',\n",
            "                                      'xml:lang': 'fr'}},\n",
            "                          {'object': {'type': 'literal',\n",
            "                                      'value': '알베르트 아인슈타인',\n",
            "                                      'xml:lang': 'ko'}},\n",
            "                          {'object': {'type': 'literal',\n",
            "                                      'value': 'アルベルト・アインシュタイン',\n",
            "                                      'xml:lang': 'ja'}},\n",
            "                          {'object': {'type': 'literal',\n",
            "                                      'value': 'Albert Einstein',\n",
            "                                      'xml:lang': 'nl'}},\n",
            "                          {'object': {'type': 'literal',\n",
            "                                      'value': 'Albert Einstein',\n",
            "                                      'xml:lang': 'pl'}},\n",
            "                          {'object': {'type': 'literal',\n",
            "                                      'value': 'Albert Einstein',\n",
            "                                      'xml:lang': 'pt'}},\n",
            "                          {'object': {'type': 'literal',\n",
            "                                      'value': 'Эйнштейн, Альберт',\n",
            "                                      'xml:lang': 'ru'}},\n",
            "                          {'object': {'type': 'literal',\n",
            "                                      'value': 'Альберт Ейнштейн',\n",
            "                                      'xml:lang': 'uk'}},\n",
            "                          {'object': {'type': 'literal',\n",
            "                                      'value': 'Albert Einstein',\n",
            "                                      'xml:lang': 'sv'}},\n",
            "                          {'object': {'type': 'literal',\n",
            "                                      'value': '阿尔伯特·爱因斯坦',\n",
            "                                      'xml:lang': 'zh'}}],\n",
            "             'distinct': False,\n",
            "             'ordered': True}}\n"
          ]
        }
      ]
    },
    {
      "cell_type": "code",
      "source": [
        "sparqlInstance.setQuery('''CONSTRUCT {dbc:Machine_learning skos:broader ?parent . dbc:Machine_learning skos:narrower ?child .}\n",
        "                          WHERE{{dbc:Machine_learning skos:broades ?parent .}\n",
        "                          UNION{ ?child skos:broader dbc:Machine_learning .}}''')\n",
        "sparqlInstance.setReturnFormat(N3)\n",
        "queryRes=sparqlInstance.query().convert()\n",
        "\n",
        "g=Graph()\n",
        "g.parse(data=queryRes, format='n3')\n",
        "\n",
        "print(g.serialize(format='ttl'))"
      ],
      "metadata": {
        "colab": {
          "base_uri": "https://localhost:8080/"
        },
        "id": "x-NO2kMXyoMy",
        "outputId": "2903f4ff-d016-4e71-e816-4ad714124bb0"
      },
      "execution_count": 14,
      "outputs": [
        {
          "output_type": "stream",
          "name": "stdout",
          "text": [
            "@prefix dbc: <http://dbpedia.org/resource/Category:> .\n",
            "@prefix skos: <http://www.w3.org/2004/02/skos/core#> .\n",
            "\n",
            "dbc:Machine_learning skos:narrower dbc:Applied_machine_learning,\n",
            "        dbc:Artificial_intelligence_conferences,\n",
            "        dbc:Artificial_neural_networks,\n",
            "        dbc:Bayesian_networks,\n",
            "        dbc:Blockmodeling,\n",
            "        dbc:Classification_algorithms,\n",
            "        dbc:Cluster_analysis,\n",
            "        dbc:Computational_learning_theory,\n",
            "        dbc:Data_mining_and_machine_learning_software,\n",
            "        dbc:Datasets_in_machine_learning,\n",
            "        dbc:Deep_learning,\n",
            "        dbc:Dimension_reduction,\n",
            "        dbc:Ensemble_learning,\n",
            "        dbc:Evolutionary_algorithms,\n",
            "        dbc:Genetic_programming,\n",
            "        dbc:Inductive_logic_programming,\n",
            "        dbc:Kernel_methods_for_machine_learning,\n",
            "        dbc:Latent_variable_models,\n",
            "        dbc:Learning_in_computer_vision,\n",
            "        dbc:Log-linear_models,\n",
            "        dbc:Loss_functions,\n",
            "        dbc:Machine_learning_algorithms,\n",
            "        dbc:Machine_learning_researchers,\n",
            "        dbc:Machine_learning_task,\n",
            "        dbc:Markov_models,\n",
            "        dbc:Natural_language_processing_researchers,\n",
            "        dbc:Ontology_learning_\\(computer_science\\),\n",
            "        dbc:Reinforcement_learning,\n",
            "        dbc:Semisupervised_learning,\n",
            "        dbc:Signal_processing_conferences,\n",
            "        dbc:Statistical_natural_language_processing,\n",
            "        dbc:Structured_prediction,\n",
            "        dbc:Supervised_learning,\n",
            "        dbc:Support_vector_machines,\n",
            "        dbc:Unsupervised_learning .\n",
            "\n",
            "\n"
          ]
        }
      ]
    },
    {
      "cell_type": "code",
      "source": [],
      "metadata": {
        "id": "QLUG17IK049F"
      },
      "execution_count": null,
      "outputs": []
    }
  ]
}